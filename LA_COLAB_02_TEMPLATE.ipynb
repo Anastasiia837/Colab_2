{
  "cells": [
    {
      "cell_type": "markdown",
      "metadata": {
        "id": "view-in-github",
        "colab_type": "text"
      },
      "source": [
        "<a href=\"https://colab.research.google.com/github/Anastasiia837/Colab_2/blob/main/LA_COLAB_02_TEMPLATE.ipynb\" target=\"_parent\"><img src=\"https://colab.research.google.com/assets/colab-badge.svg\" alt=\"Open In Colab\"/></a>"
      ]
    },
    {
      "cell_type": "markdown",
      "metadata": {
        "id": "wO7rDz2w7pM3"
      },
      "source": [
        "# **ЛА_COLAB_02: занурення до лінійної алгебри**"
      ]
    },
    {
      "cell_type": "markdown",
      "metadata": {
        "id": "R-PFsPsS_hZ_"
      },
      "source": [
        "**Анастасія Зобова, МФ-11**"
      ]
    },
    {
      "cell_type": "markdown",
      "metadata": {
        "id": "VyPQqmIk75wW"
      },
      "source": [
        "В цьому колабі треба продемонструвати виконання завдань з комп'ютерних практикумів LA_CP_04, LA_CP_05, LA_CP_06, LA_CP_07, які знаходяться за [адресою](https://github.com/LPolyakova/Linear_Algebra_for_CS_students/tree/main/CP)"
      ]
    },
    {
      "cell_type": "markdown",
      "metadata": {
        "id": "MY3sTd5U8cXV"
      },
      "source": [
        "Користуватись ресурсами з інтернету або штучним інтелектом не заборонено. Однак, якщо ви використовуєте ШІ, код, довідкові матеріали з інтернету або літератури, ОБОВ'ЯЗКОВО вказуйте посилання в коментарях в тому місці, де ви ці ресурси використовуєте. Інакше це буде розцінено як плагіат і завдання не буде зараховано. Також ви повинні розібратися в усьому, що використовували, і бути в змозі відповідати на питання, які стосуються всього, що є у вашій роботі.\n",
        "\n",
        "Будь ласка, нічого не видаляйте з цього шаблону, копіюйте умови, не видаляючи з них пункти. Якщо якісь пункти задач не розв'язані, залиште відповідні комірки порожніми. Пишіть математичні міркування та код в тих комірках, де це вказано.\n",
        "\n",
        "Виконувати завдання слід САМОСТІЙНО. У разі виявлення однакових розв'язків роботи будуть анульовані!\n",
        "\n",
        "Необхідні імпорти вказано в преамбулі. Імпортувати інші пакети не дозволяється\n",
        "\n",
        "📕 [Довідник з Markdown](https://www.markdownguide.org\n",
        ") (для набору в текстових комірках)\n",
        "\n",
        "📕 Короткий довідник з [TeX](https://www.overleaf.com/learn/latex/Learn_LaTeX_in_30_minutes)  для набору формул"
      ]
    },
    {
      "cell_type": "code",
      "execution_count": null,
      "metadata": {
        "id": "3Wx4heRt7FrT"
      },
      "outputs": [],
      "source": [
        "import matplotlib.pyplot as plt\n",
        "import numpy as np\n",
        "import networkx as nx\n",
        "import pandas as pd\n",
        "from scipy import linalg\n",
        "import sympy"
      ]
    },
    {
      "cell_type": "markdown",
      "metadata": {
        "id": "KRAhGRE39XwX"
      },
      "source": [
        " 💻 **Вправа 4.** Оберіть одну з вправ 4.1 - 4.5 на ваш вибір з комп'ютерного практикуму [LA_CP_04](https://github.com/LPolyakova/Linear_Algebra_for_CS_students/blob/main/CP/LA_CP_04_Linear_spaces.ipynb). Скопіюйте умову в комірки нижче та виконайте завдання."
      ]
    },
    {
      "cell_type": "markdown",
      "metadata": {
        "id": "NwCwA-2L96HJ"
      },
      "source": [
        "✔️ *Запишіть умови й розв'язки тут та нижче*![image.png](data:image/png;base64,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)"
      ]
    },
    {
      "cell_type": "code",
      "execution_count": 9,
      "metadata": {
        "id": "okRURROp9KFe",
        "colab": {
          "base_uri": "https://localhost:8080/"
        },
        "outputId": "42bd702c-f2f1-4037-863c-583168682657"
      },
      "outputs": [
        {
          "output_type": "stream",
          "name": "stdout",
          "text": [
            "✅ Вектори утворюють базис.\n",
            "Координати вектора b в цьому базисі: [1. 2.]\n"
          ]
        },
        {
          "output_type": "execute_result",
          "data": {
            "text/plain": [
              "array([1., 2.])"
            ]
          },
          "metadata": {},
          "execution_count": 9
        }
      ],
      "source": [
        "import numpy as np\n",
        "\n",
        "def is_basis_and_decompose(A, b):\n",
        "    A = np.array(A, dtype=float)\n",
        "    b = np.array(b, dtype=float)\n",
        "\n",
        "    # Перевірка на квадратність та відповідність розмірів\n",
        "    if A.shape[0] != A.shape[1]:\n",
        "        print(\"Матриця не квадратна! Для базису в R^n потрібно n векторів розмірності n.\")\n",
        "        return\n",
        "\n",
        "    if b.shape[0] != A.shape[0]:\n",
        "        print(\"Розмірність вектора b не збігається з простором.\")\n",
        "        return\n",
        "\n",
        "    # Перевірка лінійної незалежності (повного рангу)\n",
        "    rank = np.linalg.matrix_rank(A)\n",
        "    if rank < A.shape[1]:\n",
        "        print(\"Вектори не утворюють базис — вони лінійно залежні.\")\n",
        "        return\n",
        "\n",
        "    # Розв'язання Ax = b\n",
        "    try:\n",
        "        x = np.linalg.solve(A, b)\n",
        "        print(\"✅ Вектори утворюють базис.\")\n",
        "        print(\"Координати вектора b в цьому базисі:\", x)\n",
        "        return x\n",
        "    except np.linalg.LinAlgError:\n",
        "        print(\"❌ Немає розв'язку: вектор b не лежить у просторі, який породжує цей базис.\")\n",
        "        return\n",
        "\n",
        "# 🔧 Приклад (можеш змінити!)\n",
        "A = [[1, 2], [3, 4]]\n",
        "b = [5, 11]\n",
        "\n",
        "is_basis_and_decompose(A, b)\n"
      ]
    },
    {
      "cell_type": "markdown",
      "metadata": {
        "id": "BNaaoaNw-fCT"
      },
      "source": [
        "<font color=\"red\"> *Коментар викладача:* <font>"
      ]
    },
    {
      "cell_type": "markdown",
      "metadata": {
        "id": "cf2hxpP4AyDL"
      },
      "source": [
        "\n",
        "🧩  **Задача 4.** Оберіть одну із задач 4.6 - 4.7 на ваш вибір з комп'ютерного практикуму [LA_CP_04](https://github.com/LPolyakova/Linear_Algebra_for_CS_students/blob/main/CP/LA_CP_04_Linear_spaces.ipynb). Скопіюйте умову в комірки нижче та виконайте завдання."
      ]
    },
    {
      "cell_type": "markdown",
      "metadata": {
        "id": "B8vAPaTNAyDM"
      },
      "source": [
        "✔️ *Запишіть умови й розв'язки тут та нижче*"
      ]
    },
    {
      "cell_type": "code",
      "execution_count": null,
      "metadata": {
        "id": "-bt-iszTAyDN"
      },
      "outputs": [],
      "source": [
        "# write your code here"
      ]
    },
    {
      "cell_type": "markdown",
      "metadata": {
        "id": "WSpKbeK8AyDO"
      },
      "source": [
        "<font color=\"red\"> *Коментар викладача:* <font>"
      ]
    },
    {
      "cell_type": "markdown",
      "metadata": {
        "id": "oXmrNhSbBin4"
      },
      "source": [
        " 💻 **Вправа 5.** Оберіть одну з вправ 5.1 - 5.5 на ваш вибір з комп'ютерного практикуму [LA_CP_05](https://github.com/LPolyakova/Linear_Algebra_for_CS_students/blob/main/CP/LA_CP_05_Euclidean_spaces.ipynb). Скопіюйте умову в комірки нижче та виконайте завдання."
      ]
    },
    {
      "cell_type": "markdown",
      "metadata": {
        "id": "sTFY5FN4Bin5"
      },
      "source": [
        "✔️ *Запишіть умови й розв'язки тут та нижче*"
      ]
    },
    {
      "cell_type": "code",
      "execution_count": null,
      "metadata": {
        "id": "O-_TE41GBin6"
      },
      "outputs": [],
      "source": [
        "# write your code here"
      ]
    },
    {
      "cell_type": "markdown",
      "metadata": {
        "id": "kM2eMouGBin6"
      },
      "source": [
        "<font color=\"red\"> *Коментар викладача:* <font>"
      ]
    },
    {
      "cell_type": "markdown",
      "metadata": {
        "id": "DT_1_UojBin7"
      },
      "source": [
        "\n",
        "🧩  **Задача 5.** Оберіть одну із задач 5.6 - 5.7 на ваш вибір з комп'ютерного практикуму [LA_CP_05](https://github.com/LPolyakova/Linear_Algebra_for_CS_students/blob/main/CP/LA_CP_05_Euclidean_spaces.ipynb). Скопіюйте умову в комірки нижче та виконайте завдання."
      ]
    },
    {
      "cell_type": "markdown",
      "metadata": {
        "id": "TSuOsvX5Bin7"
      },
      "source": [
        "✔️ *Запишіть умови й розв'язки тут та нижче*"
      ]
    },
    {
      "cell_type": "code",
      "execution_count": null,
      "metadata": {
        "id": "6H9u5QiUBin7"
      },
      "outputs": [],
      "source": [
        "# write your code here"
      ]
    },
    {
      "cell_type": "markdown",
      "metadata": {
        "id": "D8I7MA99Bin8"
      },
      "source": [
        "<font color=\"red\"> *Коментар викладача:* <font>"
      ]
    },
    {
      "cell_type": "markdown",
      "metadata": {
        "id": "DUa8Uc9zBjl2"
      },
      "source": [
        "💻 **Вправа 6.** Оберіть одну з вправ 6.1 - 6.5 на ваш вибір з комп'ютерного практикуму [LA_CP_06](https://github.com/LPolyakova/Linear_Algebra_for_CS_students/blob/main/CP/LA_CP_06_Linear_transformations.ipynb). Скопіюйте умову в комірки нижче та виконайте завдання."
      ]
    },
    {
      "cell_type": "markdown",
      "metadata": {
        "id": "CM4qpz4nBjl3"
      },
      "source": [
        "✔️ *Запишіть умови й розв'язки тут та нижче*"
      ]
    },
    {
      "cell_type": "code",
      "execution_count": null,
      "metadata": {
        "id": "H79NjVGxBjl3"
      },
      "outputs": [],
      "source": [
        "# write your code here"
      ]
    },
    {
      "cell_type": "markdown",
      "metadata": {
        "id": "PhgPCwxVBjl3"
      },
      "source": [
        "<font color=\"red\"> *Коментар викладача:* <font>"
      ]
    },
    {
      "cell_type": "markdown",
      "metadata": {
        "id": "hLDe3ZyhBjl4"
      },
      "source": [
        "\n",
        "🧩  **Задача 6.** Оберіть одну із задач 6.6 - 6.7 на ваш вибір з комп'ютерного практикуму [LA_CP_06](https://github.com/LPolyakova/Linear_Algebra_for_CS_students/blob/main/CP/LA_CP_06_Linear_transformations.ipynb). Скопіюйте умову в комірки нижче та виконайте завдання."
      ]
    },
    {
      "cell_type": "markdown",
      "metadata": {
        "id": "BX_IhGnqBjl4"
      },
      "source": [
        "✔️ *Запишіть умови й розв'язки тут та нижче*"
      ]
    },
    {
      "cell_type": "code",
      "execution_count": null,
      "metadata": {
        "id": "DOvnzHZsBjl4"
      },
      "outputs": [],
      "source": [
        "# write your code here"
      ]
    },
    {
      "cell_type": "markdown",
      "metadata": {
        "id": "VQjiSuZuBjl4"
      },
      "source": [
        "<font color=\"red\"> *Коментар викладача:* <font>"
      ]
    },
    {
      "cell_type": "markdown",
      "metadata": {
        "id": "eosLlv5W1b64"
      },
      "source": [
        "💻 **Вправа 7.** Оберіть одну з вправ 7.1 - 7.5 на ваш вибір з комп'ютерного практикуму [LA_CP_07](https://github.com/LPolyakova/Linear_Algebra_for_CS_students/blob/main/CP/LA_CP_07_Symmetrical_matrices_and_quadratic_forms.ipynb). Скопіюйте умову в комірки нижче та виконайте завдання."
      ]
    },
    {
      "cell_type": "markdown",
      "metadata": {
        "id": "5OM1rUPM1b64"
      },
      "source": [
        "✔️ *Запишіть умови й розв'язки тут та нижче*"
      ]
    },
    {
      "cell_type": "code",
      "execution_count": null,
      "metadata": {
        "id": "-t27m0HQ1b64"
      },
      "outputs": [],
      "source": [
        "# write your code here"
      ]
    }
  ],
  "metadata": {
    "colab": {
      "provenance": [],
      "include_colab_link": true
    },
    "kernelspec": {
      "display_name": "Python 3 (ipykernel)",
      "language": "python",
      "name": "python3"
    },
    "language_info": {
      "codemirror_mode": {
        "name": "ipython",
        "version": 3
      },
      "file_extension": ".py",
      "mimetype": "text/x-python",
      "name": "python",
      "nbconvert_exporter": "python",
      "pygments_lexer": "ipython3",
      "version": "3.12.4"
    }
  },
  "nbformat": 4,
  "nbformat_minor": 0
}